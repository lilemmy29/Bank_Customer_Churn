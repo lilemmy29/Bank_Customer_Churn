{
 "cells": [
  {
   "cell_type": "markdown",
   "metadata": {},
   "source": [
    "# Data Inspection And Data Cleaning "
   ]
  },
  {
   "cell_type": "code",
   "execution_count": 4,
   "metadata": {
    "id": "w_FGQri1OHJj"
   },
   "outputs": [],
   "source": [
    "import pandas as pd\n",
    "import matplotlib.pyplot as plt\n",
    "import seaborn as sns"
   ]
  },
  {
   "cell_type": "code",
   "execution_count": 5,
   "metadata": {
    "id": "EY2H2HJiRsbT"
   },
   "outputs": [],
   "source": [
    "df = pd.read_csv(r\"C:\\Users\\user\\Desktop\\Bank Churn\\train.csv\")"
   ]
  },
  {
   "cell_type": "code",
   "execution_count": 6,
   "metadata": {
    "colab": {
     "base_uri": "https://localhost:8080/",
     "height": 206
    },
    "id": "alAkE6iyS07t",
    "outputId": "82c3d787-d9a7-4dc9-cfe8-f59cfa7b0ddf"
   },
   "outputs": [
    {
     "data": {
      "text/html": [
       "<div>\n",
       "<style scoped>\n",
       "    .dataframe tbody tr th:only-of-type {\n",
       "        vertical-align: middle;\n",
       "    }\n",
       "\n",
       "    .dataframe tbody tr th {\n",
       "        vertical-align: top;\n",
       "    }\n",
       "\n",
       "    .dataframe thead th {\n",
       "        text-align: right;\n",
       "    }\n",
       "</style>\n",
       "<table border=\"1\" class=\"dataframe\">\n",
       "  <thead>\n",
       "    <tr style=\"text-align: right;\">\n",
       "      <th></th>\n",
       "      <th>id</th>\n",
       "      <th>CustomerId</th>\n",
       "      <th>Surname</th>\n",
       "      <th>CreditScore</th>\n",
       "      <th>Geography</th>\n",
       "      <th>Gender</th>\n",
       "      <th>Age</th>\n",
       "      <th>Tenure</th>\n",
       "      <th>Balance</th>\n",
       "      <th>NumOfProducts</th>\n",
       "      <th>HasCrCard</th>\n",
       "      <th>IsActiveMember</th>\n",
       "      <th>EstimatedSalary</th>\n",
       "      <th>Exited</th>\n",
       "    </tr>\n",
       "  </thead>\n",
       "  <tbody>\n",
       "    <tr>\n",
       "      <th>0</th>\n",
       "      <td>0</td>\n",
       "      <td>15674932</td>\n",
       "      <td>Okwudilichukwu</td>\n",
       "      <td>668</td>\n",
       "      <td>France</td>\n",
       "      <td>Male</td>\n",
       "      <td>33.0</td>\n",
       "      <td>3</td>\n",
       "      <td>0.00</td>\n",
       "      <td>2</td>\n",
       "      <td>1.0</td>\n",
       "      <td>0.0</td>\n",
       "      <td>181449.97</td>\n",
       "      <td>0</td>\n",
       "    </tr>\n",
       "    <tr>\n",
       "      <th>1</th>\n",
       "      <td>1</td>\n",
       "      <td>15749177</td>\n",
       "      <td>Okwudiliolisa</td>\n",
       "      <td>627</td>\n",
       "      <td>France</td>\n",
       "      <td>Male</td>\n",
       "      <td>33.0</td>\n",
       "      <td>1</td>\n",
       "      <td>0.00</td>\n",
       "      <td>2</td>\n",
       "      <td>1.0</td>\n",
       "      <td>1.0</td>\n",
       "      <td>49503.50</td>\n",
       "      <td>0</td>\n",
       "    </tr>\n",
       "    <tr>\n",
       "      <th>2</th>\n",
       "      <td>2</td>\n",
       "      <td>15694510</td>\n",
       "      <td>Hsueh</td>\n",
       "      <td>678</td>\n",
       "      <td>France</td>\n",
       "      <td>Male</td>\n",
       "      <td>40.0</td>\n",
       "      <td>10</td>\n",
       "      <td>0.00</td>\n",
       "      <td>2</td>\n",
       "      <td>1.0</td>\n",
       "      <td>0.0</td>\n",
       "      <td>184866.69</td>\n",
       "      <td>0</td>\n",
       "    </tr>\n",
       "    <tr>\n",
       "      <th>3</th>\n",
       "      <td>3</td>\n",
       "      <td>15741417</td>\n",
       "      <td>Kao</td>\n",
       "      <td>581</td>\n",
       "      <td>France</td>\n",
       "      <td>Male</td>\n",
       "      <td>34.0</td>\n",
       "      <td>2</td>\n",
       "      <td>148882.54</td>\n",
       "      <td>1</td>\n",
       "      <td>1.0</td>\n",
       "      <td>1.0</td>\n",
       "      <td>84560.88</td>\n",
       "      <td>0</td>\n",
       "    </tr>\n",
       "    <tr>\n",
       "      <th>4</th>\n",
       "      <td>4</td>\n",
       "      <td>15766172</td>\n",
       "      <td>Chiemenam</td>\n",
       "      <td>716</td>\n",
       "      <td>Spain</td>\n",
       "      <td>Male</td>\n",
       "      <td>33.0</td>\n",
       "      <td>5</td>\n",
       "      <td>0.00</td>\n",
       "      <td>2</td>\n",
       "      <td>1.0</td>\n",
       "      <td>1.0</td>\n",
       "      <td>15068.83</td>\n",
       "      <td>0</td>\n",
       "    </tr>\n",
       "  </tbody>\n",
       "</table>\n",
       "</div>"
      ],
      "text/plain": [
       "   id  CustomerId         Surname  CreditScore Geography Gender   Age  Tenure  \\\n",
       "0   0    15674932  Okwudilichukwu          668    France   Male  33.0       3   \n",
       "1   1    15749177   Okwudiliolisa          627    France   Male  33.0       1   \n",
       "2   2    15694510           Hsueh          678    France   Male  40.0      10   \n",
       "3   3    15741417             Kao          581    France   Male  34.0       2   \n",
       "4   4    15766172       Chiemenam          716     Spain   Male  33.0       5   \n",
       "\n",
       "     Balance  NumOfProducts  HasCrCard  IsActiveMember  EstimatedSalary  \\\n",
       "0       0.00              2        1.0             0.0        181449.97   \n",
       "1       0.00              2        1.0             1.0         49503.50   \n",
       "2       0.00              2        1.0             0.0        184866.69   \n",
       "3  148882.54              1        1.0             1.0         84560.88   \n",
       "4       0.00              2        1.0             1.0         15068.83   \n",
       "\n",
       "   Exited  \n",
       "0       0  \n",
       "1       0  \n",
       "2       0  \n",
       "3       0  \n",
       "4       0  "
      ]
     },
     "execution_count": 6,
     "metadata": {},
     "output_type": "execute_result"
    }
   ],
   "source": [
    "df.head()"
   ]
  },
  {
   "cell_type": "code",
   "execution_count": 7,
   "metadata": {
    "id": "Tl5eN-enS3ik"
   },
   "outputs": [],
   "source": [
    "df.columns = df.columns.str.lower() #converting the strings to lowercase"
   ]
  },
  {
   "cell_type": "code",
   "execution_count": 8,
   "metadata": {
    "colab": {
     "base_uri": "https://localhost:8080/"
    },
    "id": "jgtKYMa3TB4M",
    "outputId": "59e6392f-d063-442c-9f16-d5f5feb0d49c"
   },
   "outputs": [
    {
     "name": "stdout",
     "output_type": "stream",
     "text": [
      "The number of rows in the dataframe: 165034\n"
     ]
    }
   ],
   "source": [
    "len(df) #checking the length of the dataset\n",
    "print('The number of rows in the dataframe:', len(df))"
   ]
  },
  {
   "cell_type": "code",
   "execution_count": 9,
   "metadata": {
    "colab": {
     "base_uri": "https://localhost:8080/"
    },
    "id": "OaxlKqaaTQpB",
    "outputId": "201607ac-6670-4f3e-84a3-220fab36a227"
   },
   "outputs": [
    {
     "name": "stdout",
     "output_type": "stream",
     "text": [
      "The number of rows and columns on the dataframe respectively: (165034, 14)\n"
     ]
    }
   ],
   "source": [
    "df.shape # checking the shape of the dataframe\n",
    "print('The number of rows and columns on the dataframe respectively:', df.shape)"
   ]
  },
  {
   "cell_type": "code",
   "execution_count": 10,
   "metadata": {
    "colab": {
     "base_uri": "https://localhost:8080/"
    },
    "id": "TZqwNyVQTzW7",
    "outputId": "a72fbc64-3bdc-4e2d-e18c-28e60ca1d3e0"
   },
   "outputs": [
    {
     "name": "stdout",
     "output_type": "stream",
     "text": [
      "<class 'pandas.core.frame.DataFrame'>\n",
      "RangeIndex: 165034 entries, 0 to 165033\n",
      "Data columns (total 14 columns):\n",
      " #   Column           Non-Null Count   Dtype  \n",
      "---  ------           --------------   -----  \n",
      " 0   id               165034 non-null  int64  \n",
      " 1   customerid       165034 non-null  int64  \n",
      " 2   surname          165034 non-null  object \n",
      " 3   creditscore      165034 non-null  int64  \n",
      " 4   geography        165034 non-null  object \n",
      " 5   gender           165034 non-null  object \n",
      " 6   age              165034 non-null  float64\n",
      " 7   tenure           165034 non-null  int64  \n",
      " 8   balance          165034 non-null  float64\n",
      " 9   numofproducts    165034 non-null  int64  \n",
      " 10  hascrcard        165034 non-null  float64\n",
      " 11  isactivemember   165034 non-null  float64\n",
      " 12  estimatedsalary  165034 non-null  float64\n",
      " 13  exited           165034 non-null  int64  \n",
      "dtypes: float64(5), int64(6), object(3)\n",
      "memory usage: 17.6+ MB\n",
      "None\n"
     ]
    }
   ],
   "source": [
    "# Identifying the structure and datatype of the dataframe\n",
    "print(df.info())"
   ]
  },
  {
   "cell_type": "code",
   "execution_count": 11,
   "metadata": {
    "id": "SynZizXCUFUH"
   },
   "outputs": [],
   "source": [
    "num_columns = df.select_dtypes(include=['int','float']) # Numeric coluns in the dataframe\n",
    "cat_columns = df.select_dtypes(include=['O']) # Categorical columns in the dataframe"
   ]
  },
  {
   "cell_type": "code",
   "execution_count": 12,
   "metadata": {
    "colab": {
     "base_uri": "https://localhost:8080/",
     "height": 394
    },
    "id": "ND63U5pZUvI5",
    "outputId": "2f42d198-1f69-425a-d2e4-f33413cea203"
   },
   "outputs": [
    {
     "data": {
      "text/html": [
       "<div>\n",
       "<style scoped>\n",
       "    .dataframe tbody tr th:only-of-type {\n",
       "        vertical-align: middle;\n",
       "    }\n",
       "\n",
       "    .dataframe tbody tr th {\n",
       "        vertical-align: top;\n",
       "    }\n",
       "\n",
       "    .dataframe thead th {\n",
       "        text-align: right;\n",
       "    }\n",
       "</style>\n",
       "<table border=\"1\" class=\"dataframe\">\n",
       "  <thead>\n",
       "    <tr style=\"text-align: right;\">\n",
       "      <th></th>\n",
       "      <th>count</th>\n",
       "      <th>mean</th>\n",
       "      <th>std</th>\n",
       "      <th>min</th>\n",
       "      <th>25%</th>\n",
       "      <th>50%</th>\n",
       "      <th>75%</th>\n",
       "      <th>max</th>\n",
       "    </tr>\n",
       "  </thead>\n",
       "  <tbody>\n",
       "    <tr>\n",
       "      <th>id</th>\n",
       "      <td>165034.0</td>\n",
       "      <td>8.251650e+04</td>\n",
       "      <td>47641.356500</td>\n",
       "      <td>0.00</td>\n",
       "      <td>41258.25</td>\n",
       "      <td>82516.5</td>\n",
       "      <td>1.237748e+05</td>\n",
       "      <td>165033.00</td>\n",
       "    </tr>\n",
       "    <tr>\n",
       "      <th>customerid</th>\n",
       "      <td>165034.0</td>\n",
       "      <td>1.569201e+07</td>\n",
       "      <td>71397.816791</td>\n",
       "      <td>15565701.00</td>\n",
       "      <td>15633141.00</td>\n",
       "      <td>15690169.0</td>\n",
       "      <td>1.575682e+07</td>\n",
       "      <td>15815690.00</td>\n",
       "    </tr>\n",
       "    <tr>\n",
       "      <th>creditscore</th>\n",
       "      <td>165034.0</td>\n",
       "      <td>6.564544e+02</td>\n",
       "      <td>80.103340</td>\n",
       "      <td>350.00</td>\n",
       "      <td>597.00</td>\n",
       "      <td>659.0</td>\n",
       "      <td>7.100000e+02</td>\n",
       "      <td>850.00</td>\n",
       "    </tr>\n",
       "    <tr>\n",
       "      <th>age</th>\n",
       "      <td>165034.0</td>\n",
       "      <td>3.812589e+01</td>\n",
       "      <td>8.867205</td>\n",
       "      <td>18.00</td>\n",
       "      <td>32.00</td>\n",
       "      <td>37.0</td>\n",
       "      <td>4.200000e+01</td>\n",
       "      <td>92.00</td>\n",
       "    </tr>\n",
       "    <tr>\n",
       "      <th>tenure</th>\n",
       "      <td>165034.0</td>\n",
       "      <td>5.020353e+00</td>\n",
       "      <td>2.806159</td>\n",
       "      <td>0.00</td>\n",
       "      <td>3.00</td>\n",
       "      <td>5.0</td>\n",
       "      <td>7.000000e+00</td>\n",
       "      <td>10.00</td>\n",
       "    </tr>\n",
       "    <tr>\n",
       "      <th>balance</th>\n",
       "      <td>165034.0</td>\n",
       "      <td>5.547809e+04</td>\n",
       "      <td>62817.663278</td>\n",
       "      <td>0.00</td>\n",
       "      <td>0.00</td>\n",
       "      <td>0.0</td>\n",
       "      <td>1.199395e+05</td>\n",
       "      <td>250898.09</td>\n",
       "    </tr>\n",
       "    <tr>\n",
       "      <th>numofproducts</th>\n",
       "      <td>165034.0</td>\n",
       "      <td>1.554455e+00</td>\n",
       "      <td>0.547154</td>\n",
       "      <td>1.00</td>\n",
       "      <td>1.00</td>\n",
       "      <td>2.0</td>\n",
       "      <td>2.000000e+00</td>\n",
       "      <td>4.00</td>\n",
       "    </tr>\n",
       "    <tr>\n",
       "      <th>hascrcard</th>\n",
       "      <td>165034.0</td>\n",
       "      <td>7.539537e-01</td>\n",
       "      <td>0.430707</td>\n",
       "      <td>0.00</td>\n",
       "      <td>1.00</td>\n",
       "      <td>1.0</td>\n",
       "      <td>1.000000e+00</td>\n",
       "      <td>1.00</td>\n",
       "    </tr>\n",
       "    <tr>\n",
       "      <th>isactivemember</th>\n",
       "      <td>165034.0</td>\n",
       "      <td>4.977702e-01</td>\n",
       "      <td>0.499997</td>\n",
       "      <td>0.00</td>\n",
       "      <td>0.00</td>\n",
       "      <td>0.0</td>\n",
       "      <td>1.000000e+00</td>\n",
       "      <td>1.00</td>\n",
       "    </tr>\n",
       "    <tr>\n",
       "      <th>estimatedsalary</th>\n",
       "      <td>165034.0</td>\n",
       "      <td>1.125748e+05</td>\n",
       "      <td>50292.865585</td>\n",
       "      <td>11.58</td>\n",
       "      <td>74637.57</td>\n",
       "      <td>117948.0</td>\n",
       "      <td>1.551525e+05</td>\n",
       "      <td>199992.48</td>\n",
       "    </tr>\n",
       "    <tr>\n",
       "      <th>exited</th>\n",
       "      <td>165034.0</td>\n",
       "      <td>2.115988e-01</td>\n",
       "      <td>0.408443</td>\n",
       "      <td>0.00</td>\n",
       "      <td>0.00</td>\n",
       "      <td>0.0</td>\n",
       "      <td>0.000000e+00</td>\n",
       "      <td>1.00</td>\n",
       "    </tr>\n",
       "  </tbody>\n",
       "</table>\n",
       "</div>"
      ],
      "text/plain": [
       "                    count          mean           std          min  \\\n",
       "id               165034.0  8.251650e+04  47641.356500         0.00   \n",
       "customerid       165034.0  1.569201e+07  71397.816791  15565701.00   \n",
       "creditscore      165034.0  6.564544e+02     80.103340       350.00   \n",
       "age              165034.0  3.812589e+01      8.867205        18.00   \n",
       "tenure           165034.0  5.020353e+00      2.806159         0.00   \n",
       "balance          165034.0  5.547809e+04  62817.663278         0.00   \n",
       "numofproducts    165034.0  1.554455e+00      0.547154         1.00   \n",
       "hascrcard        165034.0  7.539537e-01      0.430707         0.00   \n",
       "isactivemember   165034.0  4.977702e-01      0.499997         0.00   \n",
       "estimatedsalary  165034.0  1.125748e+05  50292.865585        11.58   \n",
       "exited           165034.0  2.115988e-01      0.408443         0.00   \n",
       "\n",
       "                         25%         50%           75%          max  \n",
       "id                  41258.25     82516.5  1.237748e+05    165033.00  \n",
       "customerid       15633141.00  15690169.0  1.575682e+07  15815690.00  \n",
       "creditscore           597.00       659.0  7.100000e+02       850.00  \n",
       "age                    32.00        37.0  4.200000e+01        92.00  \n",
       "tenure                  3.00         5.0  7.000000e+00        10.00  \n",
       "balance                 0.00         0.0  1.199395e+05    250898.09  \n",
       "numofproducts           1.00         2.0  2.000000e+00         4.00  \n",
       "hascrcard               1.00         1.0  1.000000e+00         1.00  \n",
       "isactivemember          0.00         0.0  1.000000e+00         1.00  \n",
       "estimatedsalary     74637.57    117948.0  1.551525e+05    199992.48  \n",
       "exited                  0.00         0.0  0.000000e+00         1.00  "
      ]
     },
     "execution_count": 12,
     "metadata": {},
     "output_type": "execute_result"
    }
   ],
   "source": [
    "df.describe().T # statistical summary of the dataframe"
   ]
  },
  {
   "cell_type": "code",
   "execution_count": 13,
   "metadata": {
    "id": "XYQKP98FVOHl"
   },
   "outputs": [],
   "source": [
    "df['age'] = df['age'].astype(int) # converting the age columns from float to integer datatype\n",
    "df['id'] = df['id'].astype('O') # converting the id column from integer to object"
   ]
  },
  {
   "cell_type": "code",
   "execution_count": 14,
   "metadata": {
    "colab": {
     "base_uri": "https://localhost:8080/"
    },
    "id": "oOvXw4rvVr6m",
    "outputId": "c9c15333-4ac6-405f-93a5-6a2ed0950e9a"
   },
   "outputs": [
    {
     "name": "stdout",
     "output_type": "stream",
     "text": [
      "The value count of customers who churned and who did not churn\n",
      "exited\n",
      "Not Churned    130113\n",
      "churned         34921\n",
      "Name: count, dtype: int64\n"
     ]
    }
   ],
   "source": [
    "# Identifying the number of customer who churned\n",
    "df['exited'] = df['exited'].replace({1:'churned',0:'Not Churned'})\n",
    "print('The value count of customers who churned and who did not churn')\n",
    "exited_value_count = df['exited'].value_counts()\n",
    "print(exited_value_count)"
   ]
  },
  {
   "cell_type": "code",
   "execution_count": 15,
   "metadata": {
    "colab": {
     "base_uri": "https://localhost:8080/",
     "height": 254
    },
    "id": "cA7VYe9SZbtv",
    "outputId": "1bae389f-301b-4ce5-84cc-a8cebc638459"
   },
   "outputs": [
    {
     "data": {
      "text/plain": [
       "<Axes: title={'center': 'Value Count of Customer who exited and stayed'}, ylabel='exited'>"
      ]
     },
     "execution_count": 15,
     "metadata": {},
     "output_type": "execute_result"
    },
    {
     "data": {
      "image/png": "[encoded data removed]",
      "text/plain": [
       "<Figure size 400x200 with 1 Axes>"
      ]
     },
     "metadata": {},
     "output_type": "display_data"
    }
   ],
   "source": [
    "exited_value_count.plot(kind='barh',title='Value Count of Customer who exited and stayed',figsize=(4,2))"
   ]
  },
  {
   "cell_type": "markdown",
   "metadata": {},
   "source": [
    "# Data Inspection and Cleaning Process:\r\n",
    "\r\n",
    "## Data Loading:\r\n",
    "Loaded the dataset using the pandas read_csv() function.\r\n",
    "\r\n",
    "## Column Names Standardization:\r\n",
    "Standardized column names to lowercase using the columns.str.lower() method to ensure consistency and ease of access.\r\n",
    "\r\n",
    "## Dataset Overview:\r\n",
    "Checked the length of the dataset using the len() function to determine the number of rows.\r\n",
    "Checked the shape of the dataset using the shape attribute to ascertain the number of rows and columns.\r\n",
    "\r\n",
    "## Data Information:\r\n",
    "- Printed the information about the dataset using the info() method to obtain an overview of the data types and non-null counts for each column.\r\n",
    "- Numeric and Categorical Columns Separation:\r\n",
    "- Separated numeric and categorical columns using the select_dtypes() method with appropriate data type filters (include=['int','float'] for numeric and include=['O'] for categorical).\r\n",
    "\r\n",
    "## Statistical Summary:\r\n",
    "Generated a statistical summary of the numeric columns using the describe() method to understand the distribution and central tendency of the numerical features.\r\n",
    "\r\n",
    "## Data Type Conversion:\r\n",
    "- Converted the 'age' column from float to integer data type using the astype() method to ensure consistency and eliminate decimal points.\r\n",
    "- Converted the 'id' column from integer to object data type using the astype() method to treat it as a categorical variable rather than a numerical identifier.\r\n",
    "- Target Variable Transformation:\r\n",
    "- Replaced numerical values in the 'exited' column with categorical labels ('churned' and 'Not Churned') using the replace() method for better interpretability.\r\n",
    "\r\n",
    "## Data Quality Check:\r\n",
    "- Conducted a value count of the 'exited' column to inspect the distribution of churned and not churned customers to ensure data quality and understand class imbalance.\r\n",
    "\r\n",
    "## Visualization:\r\n",
    "- Visualized the value count of churned and not churned customers using a horizontal bar chart with the plot() method to provide a clear understanding of the distribution.\r\n",
    "\r\n"
   ]
  },
  {
   "cell_type": "markdown",
   "metadata": {},
   "source": [
    "# Exploratory Data Analysis "
   ]
  },
  {
   "cell_type": "code",
   "execution_count": 16,
   "metadata": {
    "colab": {
     "base_uri": "https://localhost:8080/"
    },
    "id": "4mASodMUjW4E",
    "outputId": "88149956-cc5a-4a4c-b3ca-b8d2a4880898"
   },
   "outputs": [
    {
     "name": "stdout",
     "output_type": "stream",
     "text": [
      "The number of Active and Inactive Users:\n",
      "isactivemember\n",
      "Active        10297\n",
      "Not Active    24624\n",
      "dtype: int64\n"
     ]
    }
   ],
   "source": [
    "df['isactivemember'] = df.isactivemember.replace({1.0:'Active', 0.0:'Not Active'})\n",
    "churned_active_users = df[df['exited']=='churned'].groupby('isactivemember').size()\n",
    "print('The number of Active and Inactive Users:')\n",
    "print(churned_active_users)"
   ]
  },
  {
   "cell_type": "code",
   "execution_count": 17,
   "metadata": {
    "colab": {
     "base_uri": "https://localhost:8080/",
     "height": 408
    },
    "id": "iIvB43CYlgtc",
    "outputId": "95b27250-d5f6-459c-921c-f7a44146ff09"
   },
   "outputs": [
    {
     "data": {
      "text/plain": [
       "<Axes: title={'center': 'Active and Inactive Users who Churned'}, xlabel='isactivemember'>"
      ]
     },
     "execution_count": 17,
     "metadata": {},
     "output_type": "execute_result"
    },
    {
     "data": {
      "image/png": "[encoded data removed]",
      "text/plain": [
       "<Figure size 200x300 with 1 Axes>"
      ]
     },
     "metadata": {},
     "output_type": "display_data"
    }
   ],
   "source": [
    "churned_active_users.plot(kind='bar',title='Active and Inactive Users who Churned',figsize=(2,3))"
   ]
  },
  {
   "cell_type": "code",
   "execution_count": 18,
   "metadata": {
    "colab": {
     "base_uri": "https://localhost:8080/",
     "height": 472
    },
    "id": "L7q_9NXJWt2c",
    "outputId": "2c4cdbd8-40a5-4c4a-f226-7783b6b464f3"
   },
   "outputs": [
    {
     "data": {
      "image/png": "[encoded data removed]",
      "text/plain": [
       "<Figure size 640x480 with 1 Axes>"
      ]
     },
     "metadata": {},
     "output_type": "display_data"
    }
   ],
   "source": [
    "sns.histplot(df['creditscore'])\n",
    "plt.title('Credit Score Frequency')\n",
    "plt.show()"
   ]
  },
  {
   "cell_type": "code",
   "execution_count": 19,
   "metadata": {
    "colab": {
     "base_uri": "https://localhost:8080/"
    },
    "id": "1VONa8OfZYTH",
    "outputId": "190afb72-0e13-4bfb-a5ce-ac629a88ce84"
   },
   "outputs": [
    {
     "name": "stdout",
     "output_type": "stream",
     "text": [
      "The number of Churned Customers by Geography\n",
      "geography\n",
      "France     15572\n",
      "Germany    13114\n",
      "Spain       6235\n",
      "dtype: int64\n"
     ]
    }
   ],
   "source": [
    "churned_users_by_geography = df[df['exited']=='churned'].groupby('geography').size()\n",
    "print('The number of Churned Customers by Geography')\n",
    "print(churned_users_by_geography)"
   ]
  },
  {
   "cell_type": "code",
   "execution_count": 20,
   "metadata": {
    "colab": {
     "base_uri": "https://localhost:8080/",
     "height": 323
    },
    "id": "83U03ZNWbd9h",
    "outputId": "8d2e32d1-c256-46a2-92c8-5096e980f195"
   },
   "outputs": [
    {
     "data": {
      "text/plain": [
       "<Axes: title={'center': 'Churned Customers by Geography'}, xlabel='geography'>"
      ]
     },
     "execution_count": 20,
     "metadata": {},
     "output_type": "execute_result"
    },
    {
     "data": {
      "image/png": "[encoded data removed]",
      "text/plain": [
       "<Figure size 400x200 with 1 Axes>"
      ]
     },
     "metadata": {},
     "output_type": "display_data"
    }
   ],
   "source": [
    "churned_users_by_geography.plot(kind='bar', title='Churned Customers by Geography',figsize=(4,2))"
   ]
  },
  {
   "cell_type": "code",
   "execution_count": 21,
   "metadata": {
    "colab": {
     "base_uri": "https://localhost:8080/"
    },
    "id": "UY9Qqly6dEyx",
    "outputId": "68e72bc9-9296-49b7-995d-f811e32ff0a2"
   },
   "outputs": [
    {
     "name": "stdout",
     "output_type": "stream",
     "text": [
      "The number of Churned Customers by gender\n",
      "gender\n",
      "Female    20105\n",
      "Male      14816\n",
      "dtype: int64\n"
     ]
    }
   ],
   "source": [
    "churned_users_by_gender = df[df['exited']=='churned'].groupby('gender').size()\n",
    "print('The number of Churned Customers by gender')\n",
    "print(churned_users_by_gender)"
   ]
  },
  {
   "cell_type": "code",
   "execution_count": 22,
   "metadata": {
    "colab": {
     "base_uri": "https://localhost:8080/",
     "height": 309
    },
    "id": "Wptxg8nNdjR3",
    "outputId": "0cc201a9-4770-4566-f0f4-94b6f4550dfb"
   },
   "outputs": [
    {
     "data": {
      "text/plain": [
       "<Axes: title={'center': 'Churned Customers by Gender'}, xlabel='gender'>"
      ]
     },
     "execution_count": 22,
     "metadata": {},
     "output_type": "execute_result"
    },
    {
     "data": {
      "image/png": "[encoded data removed]",
      "text/plain": [
       "<Figure size 400x200 with 1 Axes>"
      ]
     },
     "metadata": {},
     "output_type": "display_data"
    }
   ],
   "source": [
    "churned_users_by_gender.plot(kind='bar', title='Churned Customers by Gender',figsize=(4,2))"
   ]
  },
  {
   "cell_type": "code",
   "execution_count": 23,
   "metadata": {
    "colab": {
     "base_uri": "https://localhost:8080/"
    },
    "id": "7qqGAwjRqLP8",
    "outputId": "66366619-b6b4-4b2e-a83c-a7810e68df56"
   },
   "outputs": [
    {
     "name": "stdout",
     "output_type": "stream",
     "text": [
      "The Frequency of top 10 Credit Score of Churned Users:\n",
      "creditscore\n",
      "678    478\n",
      "850    470\n",
      "705    362\n",
      "648    335\n",
      "651    320\n",
      "684    314\n",
      "652    292\n",
      "682    291\n",
      "683    290\n",
      "637    288\n",
      "Name: count, dtype: int64\n"
     ]
    }
   ],
   "source": [
    "creditscore_frequency = df[df['exited']=='churned']['creditscore'].value_counts().sort_values(ascending=False)\n",
    "print('The Frequency of top 10 Credit Score of Churned Users:')\n",
    "top_10_creditscore = creditscore_frequency.head(10).copy()\n",
    "print(top_10_creditscore)"
   ]
  },
  {
   "cell_type": "code",
   "execution_count": 24,
   "metadata": {
    "colab": {
     "base_uri": "https://localhost:8080/",
     "height": 331
    },
    "id": "AsRZWJBRdsFR",
    "outputId": "88e92a7b-107a-4536-bb2f-964808c76803"
   },
   "outputs": [
    {
     "data": {
      "text/plain": [
       "<Axes: title={'center': 'Frequency of churned customers creditscore'}, ylabel='Frequency'>"
      ]
     },
     "execution_count": 24,
     "metadata": {},
     "output_type": "execute_result"
    },
    {
     "data": {
      "image/png": "[encoded data removed]",
      "text/plain": [
       "<Figure size 300x300 with 1 Axes>"
      ]
     },
     "metadata": {},
     "output_type": "display_data"
    }
   ],
   "source": [
    "df[df['exited']=='churned']['creditscore'].plot(kind='hist',title='Frequency of churned customers creditscore',figsize=(3,3))"
   ]
  },
  {
   "cell_type": "code",
   "execution_count": 25,
   "metadata": {
    "colab": {
     "base_uri": "https://localhost:8080/"
    },
    "id": "RuXl8ms-xdxU",
    "outputId": "7cc4b968-fd81-48c3-e72b-7e9069811c15"
   },
   "outputs": [
    {
     "name": "stdout",
     "output_type": "stream",
     "text": [
      "The Frequency of top 10 Credit Score of Churned Users:\n",
      "balance\n",
      "0.00         14492\n",
      "124577.33       27\n",
      "122314.50       24\n",
      "102773.20       22\n",
      "129855.32       20\n",
      "127864.40       19\n",
      "139973.65       16\n",
      "113657.83       16\n",
      "122453.97       15\n",
      "126473.33       15\n",
      "Name: count, dtype: int64\n"
     ]
    }
   ],
   "source": [
    "balance_frequency = df[df['exited']=='churned']['balance'].value_counts().sort_values(ascending=False)\n",
    "print('The Frequency of top 10 Credit Score of Churned Users:')\n",
    "top_10_balance = balance_frequency.head(10).copy()\n",
    "print(top_10_balance)"
   ]
  },
  {
   "cell_type": "code",
   "execution_count": 26,
   "metadata": {
    "colab": {
     "base_uri": "https://localhost:8080/",
     "height": 331
    },
    "id": "XY1Lo5f1eIRu",
    "outputId": "afd55fb0-7ec1-46a9-f50f-1ea9e7e67054"
   },
   "outputs": [
    {
     "data": {
      "text/plain": [
       "<Axes: title={'center': 'Frequency of churned customers balance'}, ylabel='Frequency'>"
      ]
     },
     "execution_count": 26,
     "metadata": {},
     "output_type": "execute_result"
    },
    {
     "data": {
      "image/png": "[encoded data removed]",
      "text/plain": [
       "<Figure size 300x300 with 1 Axes>"
      ]
     },
     "metadata": {},
     "output_type": "display_data"
    }
   ],
   "source": [
    "df[df['exited']=='churned']['balance'].plot(kind='hist',title='Frequency of churned customers balance',figsize=(3,3))"
   ]
  },
  {
   "cell_type": "code",
   "execution_count": 27,
   "metadata": {
    "colab": {
     "base_uri": "https://localhost:8080/"
    },
    "id": "RguY4Q7hp-6l",
    "outputId": "4f552603-5fe8-4cbd-8b21-c5abcefb8ab5"
   },
   "outputs": [
    {
     "name": "stdout",
     "output_type": "stream",
     "text": [
      "The Frequency of top 10 Age of Churned Users:\n",
      "age\n",
      "46    1846\n",
      "43    1797\n",
      "40    1723\n",
      "45    1592\n",
      "48    1421\n",
      "47    1384\n",
      "44    1382\n",
      "39    1365\n",
      "41    1355\n",
      "42    1334\n",
      "Name: count, dtype: int64\n"
     ]
    }
   ],
   "source": [
    "age_frequency = df[df['exited']=='churned']['age'].value_counts().sort_values(ascending=False)\n",
    "print('The Frequency of top 10 Age of Churned Users:')\n",
    "print(age_frequency.head(10))"
   ]
  },
  {
   "cell_type": "code",
   "execution_count": 28,
   "metadata": {
    "colab": {
     "base_uri": "https://localhost:8080/",
     "height": 331
    },
    "id": "bK-BSkpKfjkg",
    "outputId": "e708392c-ca8c-4f0d-fbaf-558d110bb1a4"
   },
   "outputs": [
    {
     "data": {
      "text/plain": [
       "<Axes: title={'center': 'Frequency of churned customers age'}, ylabel='Frequency'>"
      ]
     },
     "execution_count": 28,
     "metadata": {},
     "output_type": "execute_result"
    },
    {
     "data": {
      "image/png": "[encoded data removed]",
      "text/plain": [
       "<Figure size 300x300 with 1 Axes>"
      ]
     },
     "metadata": {},
     "output_type": "display_data"
    }
   ],
   "source": [
    "df[df['exited']=='churned']['age'].plot(kind='hist',title='Frequency of churned customers age',figsize=(3,3))"
   ]
  },
  {
   "cell_type": "code",
   "execution_count": 29,
   "metadata": {
    "colab": {
     "base_uri": "https://localhost:8080/"
    },
    "id": "bB2TaK_TpKEi",
    "outputId": "0a985696-1162-4798-b0be-c725403e59ee"
   },
   "outputs": [
    {
     "name": "stdout",
     "output_type": "stream",
     "text": [
      "The Frequency of top 10 Estimated Salary of Churned Users:\n",
      "estimatedsalary\n",
      "16081.62     28\n",
      "88890.05     27\n",
      "140941.47    25\n",
      "90876.95     25\n",
      "181224.56    24\n",
      "121151.10    22\n",
      "138526.96    21\n",
      "141872.05    21\n",
      "173498.45    20\n",
      "147055.87    20\n",
      "Name: count, dtype: int64\n"
     ]
    }
   ],
   "source": [
    "salary_frequency = df[df['exited']=='churned']['estimatedsalary'].value_counts().sort_values(ascending=False)\n",
    "print('The Frequency of top 10 Estimated Salary of Churned Users:')\n",
    "print(salary_frequency.head(10))"
   ]
  },
  {
   "cell_type": "code",
   "execution_count": 30,
   "metadata": {
    "colab": {
     "base_uri": "https://localhost:8080/",
     "height": 331
    },
    "id": "nXj0zKG5f9Ld",
    "outputId": "97549be8-0639-42e2-fd4c-dfff37ed0ff4"
   },
   "outputs": [
    {
     "data": {
      "text/plain": [
       "<Axes: title={'center': 'Frequency of churned customers Estimated salary'}, ylabel='Frequency'>"
      ]
     },
     "execution_count": 30,
     "metadata": {},
     "output_type": "execute_result"
    },
    {
     "data": {
      "image/png": "[encoded data removed]",
      "text/plain": [
       "<Figure size 600x300 with 1 Axes>"
      ]
     },
     "metadata": {},
     "output_type": "display_data"
    }
   ],
   "source": [
    "df[df['exited']=='churned']['estimatedsalary'].plot(kind='hist',title='Frequency of churned customers Estimated salary',figsize=(6,3))"
   ]
  },
  {
   "cell_type": "code",
   "execution_count": 31,
   "metadata": {
    "colab": {
     "base_uri": "https://localhost:8080/"
    },
    "id": "xh9bDOJmqcec",
    "outputId": "427111f7-d82c-4bff-df62-fdc58f61b63d"
   },
   "outputs": [
    {
     "name": "stdout",
     "output_type": "stream",
     "text": [
      "The Frequency of top 10 Tenure of Churned Users:\n",
      "tenure\n",
      "4    3974\n",
      "3    3810\n",
      "5    3800\n",
      "1    3790\n",
      "9    3544\n",
      "2    3516\n",
      "8    3468\n",
      "7    3341\n",
      "6    3145\n",
      "0    1276\n",
      "Name: count, dtype: int64\n"
     ]
    }
   ],
   "source": [
    "tenure_frequency = df[df['exited']=='churned']['tenure'].value_counts().sort_values(ascending=False)\n",
    "print('The Frequency of top 10 Tenure of Churned Users:')\n",
    "print(tenure_frequency.head(10))"
   ]
  },
  {
   "cell_type": "code",
   "execution_count": 32,
   "metadata": {
    "colab": {
     "base_uri": "https://localhost:8080/",
     "height": 331
    },
    "id": "9IWqx_ehgFPE",
    "outputId": "a4fac1b3-8966-4ad6-fb57-10b98e7fc258"
   },
   "outputs": [
    {
     "data": {
      "text/plain": [
       "<Axes: title={'center': 'Frequency of churned customers tenure'}, ylabel='Frequency'>"
      ]
     },
     "execution_count": 32,
     "metadata": {},
     "output_type": "execute_result"
    },
    {
     "data": {
      "image/png": "[encoded data removed]",
      "text/plain": [
       "<Figure size 300x300 with 1 Axes>"
      ]
     },
     "metadata": {},
     "output_type": "display_data"
    }
   ],
   "source": [
    "df[df['exited']=='churned']['tenure'].plot(kind='hist',title='Frequency of churned customers tenure',figsize=(3,3))"
   ]
  },
  {
   "cell_type": "code",
   "execution_count": 33,
   "metadata": {
    "colab": {
     "base_uri": "https://localhost:8080/"
    },
    "id": "jUUBXgLPqoqr",
    "outputId": "8bc6f7be-8f57-40ca-8178-aeb9ef099a2e"
   },
   "outputs": [
    {
     "name": "stdout",
     "output_type": "stream",
     "text": [
      "The Frequency of Number of Products of Churned Users:\n",
      "numofproducts\n",
      "1    26858\n",
      "2     5093\n",
      "3     2554\n",
      "4      416\n",
      "Name: count, dtype: int64\n"
     ]
    }
   ],
   "source": [
    "numofproducts_frequency = df[df['exited']=='churned']['numofproducts'].value_counts().sort_values(ascending=False)\n",
    "print('The Frequency of Number of Products of Churned Users:')\n",
    "print(numofproducts_frequency.head(10))"
   ]
  },
  {
   "cell_type": "code",
   "execution_count": 34,
   "metadata": {
    "colab": {
     "base_uri": "https://localhost:8080/",
     "height": 331
    },
    "id": "JiisQ78PiS1Q",
    "outputId": "71f12bbb-eac5-4653-ec64-0bcc2b7fd934"
   },
   "outputs": [
    {
     "data": {
      "text/plain": [
       "<Axes: title={'center': 'Frequency of churned customers Number of Products'}, ylabel='Frequency'>"
      ]
     },
     "execution_count": 34,
     "metadata": {},
     "output_type": "execute_result"
    },
    {
     "data": {
      "image/png": "[encoded data removed]",
      "text/plain": [
       "<Figure size 300x300 with 1 Axes>"
      ]
     },
     "metadata": {},
     "output_type": "display_data"
    }
   ],
   "source": [
    "df[df['exited']=='churned']['numofproducts'].plot(kind='hist',title='Frequency of churned customers Number of Products',figsize=(3,3))"
   ]
  },
  {
   "cell_type": "markdown",
   "metadata": {
    "id": "Z_AlPkNo42Ji"
   },
   "source": [
    "# Exploratory Analysis of Churned Customers\n",
    "\n",
    "This report provides a comprehensive analysis of customers who have churned from the service, considering demographic, financial, geographical, and activity-related factors. The aim is to identify significant characteristics and behaviors of churned users and provide recommendations to improve user retention.\n",
    "\n",
    "## Demographics:\n",
    "\n",
    "- Age Distribution: Churned users are predominantly between the ages of 40 to 46, with 46 being the most common age.\n",
    "- Gender Distribution: Analysis reveals varying churn rates between genders. Among churned users, 20,105 are female, while 14,816 are male.\n",
    "- Tenure: Users with tenures of 3 to 5 years exhibit higher churn rates, particularly at the 4-year mark.\n",
    "\n",
    "## Financial Information:\n",
    "- Balance: A significant proportion of churned users maintain a balance of 0, indicating low engagement or activity.\n",
    "- Credit Score: Credit scores among churned users range from 637 to 850, with 678 and 850 being the most frequent.\n",
    "\n",
    "## Product Usage:\n",
    "- Number of Products: Churned users primarily utilize a single product, with a smaller segment utilizing two or three products.\n",
    "\n",
    "## Activity Status:\n",
    "- Active vs. Inactive Users: Churned users comprise both active and inactive members. Active users represent 10,297 while inactive users represent 24,624.\n",
    "\n",
    "## Geographical Analysis:\n",
    "-Location: Churn rates vary across regions, indicating regional factors influencing customer behavior and retention. In France 15572 churned, in Germany 13114 churned and in Spain 6235 users churned.\n",
    "\n",
    "\n",
    "\n",
    "\n",
    "# Recommendations to Retain Users:\n",
    "\n",
    "1. Localized Marketing Campaigns:\n",
    "Develop region-specific marketing strategies tailored to address unique needs identified through geographical analysis.\n",
    "Utilize localized events or cultural insights to create targeted campaigns aimed at retaining users in high-churn regions.\n",
    "\n",
    "2. Personalized Engagement:\n",
    "Implement personalized incentives or loyalty rewards based on demographic, financial, and activity-related characteristics to encourage user retention.\n",
    "Offer tailored financial management tools or advisory services to users with low balances or credit scores to enhance engagement with the service.\n",
    "\n",
    "3. Product Optimization:\n",
    "Analyze usage patterns of users with multiple products and customize offerings to better meet their needs and preferences.\n",
    "Conduct user surveys to gather feedback and identify areas for product improvement or feature development.\n",
    "\n",
    "4. Community Engagement Initiatives:\n",
    "Foster a sense of community among users through localized events, forums, or online communities, particularly in regions with high churn rates.\n",
    "Encourage user participation and feedback to better understand regional challenges and adapt retention strategies accordingly.\n",
    "\n",
    "5. Continuous Monitoring and Adaptation:\n",
    "Regularly monitor churn metrics and conduct ongoing analysis to identify changing trends or patterns.\n",
    "Maintain open communication channels with users to address concerns promptly and demonstrate a commitment to customer satisfaction.\n",
    "\n",
    "6. Localized Customer Support:\n",
    "Establish dedicated customer support teams or resources for users in high-churn regions to provide personalized assistance and address issues effectively."
   ]
  },
  {
   "cell_type": "markdown",
   "metadata": {
    "id": "3mWIoUZKywYq"
   },
   "source": [
    "# Machine Learning"
   ]
  },
  {
   "cell_type": "markdown",
   "metadata": {
    "id": "nP7-DImW9sr2"
   },
   "source": [
    "# Task\n",
    "- Build analgorithm that will successfully predict customers retaintion"
   ]
  },
  {
   "cell_type": "code",
   "execution_count": 46,
   "metadata": {
    "id": "GS7lZBp58Vho"
   },
   "outputs": [],
   "source": [
    "from imblearn.under_sampling import RandomUnderSampler\n",
    "from sklearn.model_selection import train_test_split\n",
    "from sklearn.preprocessing import StandardScaler, OneHotEncoder\n",
    "from sklearn.compose import ColumnTransformer\n",
    "from sklearn.pipeline import Pipeline, make_pipeline\n",
    "from sklearn.feature_selection import f_regression, chi2, SelectKBest"
   ]
  },
  {
   "cell_type": "code",
   "execution_count": 36,
   "metadata": {
    "id": "2mNBqbs_-_H4"
   },
   "outputs": [],
   "source": [
    "df['exited'] = df.exited.replace({'churned':1, 'Not Churned':0})"
   ]
  },
  {
   "cell_type": "code",
   "execution_count": 37,
   "metadata": {
    "id": "eVcLuCmb_qND"
   },
   "outputs": [],
   "source": [
    "x = df.drop(['exited','id','customerid','surname'],axis=1)\n",
    "y = df.exited"
   ]
  },
  {
   "cell_type": "code",
   "execution_count": 38,
   "metadata": {
    "id": "evFpUb71BykY"
   },
   "outputs": [],
   "source": [
    "sampler = RandomUnderSampler()"
   ]
  },
  {
   "cell_type": "code",
   "execution_count": 39,
   "metadata": {
    "id": "evEL70-UCRKq"
   },
   "outputs": [],
   "source": [
    "sampled_x, sampled_y = sampler.fit_resample(x,y)"
   ]
  },
  {
   "cell_type": "code",
   "execution_count": 40,
   "metadata": {
    "id": "Rm1SebmsCoyj"
   },
   "outputs": [
    {
     "data": {
      "text/plain": [
       "exited\n",
       "0    34921\n",
       "1    34921\n",
       "Name: count, dtype: int64"
      ]
     },
     "execution_count": 40,
     "metadata": {},
     "output_type": "execute_result"
    }
   ],
   "source": [
    "sampled_y.value_counts()"
   ]
  },
  {
   "cell_type": "code",
   "execution_count": 41,
   "metadata": {},
   "outputs": [
    {
     "data": {
      "text/plain": [
       "(69842, 69842)"
      ]
     },
     "execution_count": 41,
     "metadata": {},
     "output_type": "execute_result"
    }
   ],
   "source": [
    "len(sampled_x), len(sampled_y)"
   ]
  },
  {
   "cell_type": "code",
   "execution_count": 98,
   "metadata": {},
   "outputs": [],
   "source": [
    "num_columns = sampled_x.select_dtypes(include=['int','float'])\n",
    "cat_columns = sampled_x.select_dtypes(include=['O'])"
   ]
  },
  {
   "cell_type": "code",
   "execution_count": 99,
   "metadata": {},
   "outputs": [],
   "source": [
    "num_pipe = Pipeline([\n",
    "    ('scaler', StandardScaler()),\n",
    "    ('selector', SelectKBest(f_regression, k=4))\n",
    "])"
   ]
  },
  {
   "cell_type": "code",
   "execution_count": 100,
   "metadata": {},
   "outputs": [],
   "source": [
    "cat_pipe = Pipeline([\n",
    "    ('scaler', OneHotEncoder(handle_unknown='ignore', sparse_output=False)),\n",
    "    ('selector', SelectKBest(chi2, k=2))\n",
    "])"
   ]
  },
  {
   "cell_type": "code",
   "execution_count": 101,
   "metadata": {},
   "outputs": [],
   "source": [
    "processor = ColumnTransformer(\n",
    "    transformers=[\n",
    "        ('pipe1', num_pipe, num_columns.columns),\n",
    "        ('pipe2', cat_pipe, cat_columns.columns)\n",
    "    ],\n",
    "        remainder='passthrough'\n",
    ")"
   ]
  },
  {
   "cell_type": "code",
   "execution_count": 102,
   "metadata": {},
   "outputs": [],
   "source": [
    "x_train,x_test,y_train,y_test = train_test_split(sampled_x,sampled_y, test_size=0.3,random_state=50)"
   ]
  },
  {
   "cell_type": "code",
   "execution_count": 103,
   "metadata": {},
   "outputs": [
    {
     "data": {
      "text/plain": [
       "((48889, 10), (48889,))"
      ]
     },
     "execution_count": 103,
     "metadata": {},
     "output_type": "execute_result"
    }
   ],
   "source": [
    "x_train.shape, y_train.shape"
   ]
  },
  {
   "cell_type": "code",
   "execution_count": 104,
   "metadata": {},
   "outputs": [],
   "source": [
    "# RandomForest Model \n",
    "from sklearn.ensemble import RandomForestClassifier\n",
    "rf = RandomForestClassifier()"
   ]
  },
  {
   "cell_type": "code",
   "execution_count": 105,
   "metadata": {},
   "outputs": [],
   "source": [
    "rf_model = make_pipeline(processor,rf).fit(x_train,y_train)"
   ]
  },
  {
   "cell_type": "code",
   "execution_count": 106,
   "metadata": {},
   "outputs": [],
   "source": [
    "from sklearn.metrics import f1_score, confusion_matrix"
   ]
  },
  {
   "cell_type": "code",
   "execution_count": 107,
   "metadata": {},
   "outputs": [],
   "source": [
    "rf_predict = rf_model.predict(x_test)"
   ]
  },
  {
   "cell_type": "code",
   "execution_count": 70,
   "metadata": {},
   "outputs": [
    {
     "data": {
      "text/plain": [
       "0.7650384113639658"
      ]
     },
     "execution_count": 70,
     "metadata": {},
     "output_type": "execute_result"
    }
   ],
   "source": [
    "f1_score(y_test,rf_predict)"
   ]
  },
  {
   "cell_type": "code",
   "execution_count": 72,
   "metadata": {},
   "outputs": [
    {
     "data": {
      "text/plain": [
       "array([[8173, 2345],\n",
       "       [2518, 7917]], dtype=int64)"
      ]
     },
     "execution_count": 72,
     "metadata": {},
     "output_type": "execute_result"
    }
   ],
   "source": [
    "confusion_matrix(y_test,rf_predict)"
   ]
  }
 ],
 "metadata": {
  "colab": {
   "provenance": []
  },
  "kernelspec": {
   "display_name": "Python 3 (ipykernel)",
   "language": "python",
   "name": "python3"
  },
  "language_info": {
   "codemirror_mode": {
    "name": "ipython",
    "version": 3
   },
   "file_extension": ".py",
   "mimetype": "text/x-python",
   "name": "python",
   "nbconvert_exporter": "python",
   "pygments_lexer": "ipython3",
   "version": "3.11.4"
  }
 },
 "nbformat": 4,
 "nbformat_minor": 4
}
